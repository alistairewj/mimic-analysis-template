{
 "cells": [
  {
   "cell_type": "markdown",
   "metadata": {
    "colab": {
     "base_uri": "https://localhost:8080/",
     "height": 188
    },
    "colab_type": "code",
    "id": "6XzKFGiO_xBr",
    "outputId": "2853b91e-1656-4723-fc1e-8b763a203cf5"
   },
   "source": [
    "# Exploratory analysis\n",
    "\n",
    "Study title:\n",
    "DOI:\n",
    "\n",
    "This notebook provides insights into the data analyzed for the given study.\n",
    "\n",
    "The objective of the study was:"
   ]
  },
  {
   "cell_type": "markdown",
   "metadata": {},
   "source": [
    "## Import libraries"
   ]
  },
  {
   "cell_type": "code",
   "execution_count": null,
   "metadata": {},
   "outputs": [],
   "source": [
    "# Import libraries\n",
    "import os\n",
    "from pathlib import Path\n",
    "\n",
    "import pandas as pd\n",
    "# local package - can be useful to put misc utilities into a file in the same folder\n",
    "# import utils"
   ]
  },
  {
   "cell_type": "markdown",
   "metadata": {
    "colab_type": "text",
    "id": "RX7gUCgABR6o"
   },
   "source": [
    "Next we load in the generated tables."
   ]
  },
  {
   "cell_type": "code",
   "execution_count": null,
   "metadata": {},
   "outputs": [],
   "source": [
    "data_path = Path(f'../data/')\n",
    "\n",
    "# load in data from that folder, depending on the study\n",
    "# at a minimum load in the cohort tables\n",
    "filenames = []\n",
    "\n",
    "for filename in filenames:\n",
    "    pass"
   ]
  },
  {
   "cell_type": "markdown",
   "metadata": {},
   "source": [
    "## Explore the dataset.\n",
    "\n",
    "* Investigate exclusions, consistency with published results\n",
    "* Examine data, find any outliers\n",
    "* Test missing data methods\n",
    "* Vary data extraction protocols (time window, aggregation)\n",
    "* Visualize data, ensure it is appropriate for the study"
   ]
  }
 ],
 "metadata": {
  "colab": {
   "collapsed_sections": [],
   "name": "cafe-treatment.ipynb",
   "provenance": [],
   "version": "0.3.2"
  },
  "kernelspec": {
   "display_name": "Python 3 (ipykernel)",
   "language": "python",
   "name": "python3"
  },
  "language_info": {
   "codemirror_mode": {
    "name": "ipython",
    "version": 3
   },
   "file_extension": ".py",
   "mimetype": "text/x-python",
   "name": "python",
   "nbconvert_exporter": "python",
   "pygments_lexer": "ipython3",
   "version": "3.9.13"
  }
 },
 "nbformat": 4,
 "nbformat_minor": 4
}
