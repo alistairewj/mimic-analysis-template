{
 "cells": [
  {
   "cell_type": "markdown",
   "metadata": {
    "colab": {
     "base_uri": "https://localhost:8080/",
     "height": 188
    },
    "colab_type": "code",
    "id": "6XzKFGiO_xBr",
    "outputId": "2853b91e-1656-4723-fc1e-8b763a203cf5"
   },
   "source": [
    "# Primary analysis\n",
    "\n",
    "Study title:\n",
    "DOI:\n",
    "\n",
    "This notebook reproduces the final analysis of the above study.\n",
    "\n",
    "The objective of the study was:"
   ]
  },
  {
   "cell_type": "markdown",
   "metadata": {},
   "source": [
    "## Import libraries"
   ]
  },
  {
   "cell_type": "code",
   "execution_count": null,
   "metadata": {},
   "outputs": [],
   "source": [
    "# Import libraries\n",
    "import os\n",
    "from pathlib import Path\n",
    "\n",
    "import pandas as pd\n",
    "# local package - can be useful to put misc utilities into a file in the same folder\n",
    "# import utils"
   ]
  },
  {
   "cell_type": "markdown",
   "metadata": {
    "colab_type": "text",
    "id": "RX7gUCgABR6o"
   },
   "source": [
    "Next we load in the generated tables."
   ]
  },
  {
   "cell_type": "code",
   "execution_count": null,
   "metadata": {},
   "outputs": [],
   "source": [
    "data_path = Path(f'../data/')\n",
    "\n",
    "# load in data from that folder, depending on the study\n",
    "# at a minimum load in the cohort tables\n",
    "filenames = []\n",
    "\n",
    "for filename in filenames:\n",
    "    pass"
   ]
  },
  {
   "cell_type": "markdown",
   "metadata": {},
   "source": [
    "## Exclusions\n",
    "\n",
    "\n",
    "Apply exclusions. Below function may be useful in printing out exclusions."
   ]
  },
  {
   "cell_type": "code",
   "execution_count": null,
   "metadata": {
    "colab": {
     "base_uri": "https://localhost:8080/",
     "height": 252
    },
    "colab_type": "code",
    "id": "Dn6DR4osDL4n",
    "outputId": "7cc9de56-08ec-475a-fb15-2a8ddcd8017d"
   },
   "outputs": [],
   "source": [
    "def get_exclusions(cohort, verbose=True):\n",
    "    \"\"\"\n",
    "    Get all exclusions, assuming columns begin with the word exclusion.\n",
    "    \n",
    "    Returns an index of stays to *keep* in the study.\n",
    "    \"\"\"\n",
    "    df = pd.read_csv(filename, header=0)\n",
    "\n",
    "    N = df.shape[0]\n",
    "    idx = df.index.notnull()\n",
    "    cols = [c for c in df.columns if c.startswith('exclusion')]\n",
    "\n",
    "    if verbose:\n",
    "        print(f'{N} stays')\n",
    "\n",
    "    # remove excluded patients\n",
    "    for c in cols:\n",
    "        idxExcl = df[c] == 1\n",
    "        n_excl = (idx & idxExcl).sum()\n",
    "        frac = n_excl / N * 100.0\n",
    "        if verbose:\n",
    "            print(f'  {n_excl:5d} / {N:5d} ({frac:3.1f}%) - {c}')\n",
    "        idx = idx & ~idxExcl\n",
    "        N = idx.sum()\n",
    "    \n",
    "    return idx"
   ]
  },
  {
   "cell_type": "markdown",
   "metadata": {},
   "source": [
    "## Preprocess\n",
    "\n",
    "Process and merge dataframes into a final study dataframe."
   ]
  },
  {
   "cell_type": "code",
   "execution_count": null,
   "metadata": {},
   "outputs": [],
   "source": []
  },
  {
   "cell_type": "markdown",
   "metadata": {},
   "source": [
    "## Analyze\n",
    "\n",
    "Apply the analysis method.\n"
   ]
  },
  {
   "cell_type": "code",
   "execution_count": null,
   "metadata": {},
   "outputs": [],
   "source": []
  },
  {
   "cell_type": "markdown",
   "metadata": {},
   "source": [
    "## Results\n",
    "\n",
    "Print tables / figures / statements summarizing the results in a similar manner to the original study."
   ]
  },
  {
   "cell_type": "code",
   "execution_count": null,
   "metadata": {},
   "outputs": [],
   "source": []
  }
 ],
 "metadata": {
  "colab": {
   "collapsed_sections": [],
   "name": "cafe-treatment.ipynb",
   "provenance": [],
   "version": "0.3.2"
  },
  "kernelspec": {
   "display_name": "Python 3 (ipykernel)",
   "language": "python",
   "name": "python3"
  },
  "language_info": {
   "codemirror_mode": {
    "name": "ipython",
    "version": 3
   },
   "file_extension": ".py",
   "mimetype": "text/x-python",
   "name": "python",
   "nbconvert_exporter": "python",
   "pygments_lexer": "ipython3",
   "version": "3.9.13"
  }
 },
 "nbformat": 4,
 "nbformat_minor": 4
}
